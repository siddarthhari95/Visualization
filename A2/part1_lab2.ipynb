{
 "cells": [
  {
   "cell_type": "code",
   "execution_count": 115,
   "metadata": {},
   "outputs": [],
   "source": [
    "import numpy as np\n",
    "from sklearn.model_selection import (TimeSeriesSplit, KFold, ShuffleSplit,\n",
    "                                     StratifiedKFold, GroupShuffleSplit,\n",
    "                                     GroupKFold, StratifiedShuffleSplit)\n",
    "import pandas as pd\n",
    "from sklearn.cluster import KMeans\n",
    "import matplotlib.pyplot as plt\n",
    "from scipy.spatial.distance import cdist\n",
    "from sklearn.decomposition import PCA\n",
    "from sklearn import preprocessing"
   ]
  },
  {
   "cell_type": "code",
   "execution_count": 116,
   "metadata": {},
   "outputs": [],
   "source": [
    "df = pd.read_csv(\"CC_GENERAL.csv\")"
   ]
  },
  {
   "cell_type": "code",
   "execution_count": 117,
   "metadata": {},
   "outputs": [
    {
     "data": {
      "text/plain": [
       "numpy.ndarray"
      ]
     },
     "execution_count": 117,
     "metadata": {},
     "output_type": "execute_result"
    }
   ],
   "source": [
    "vals_eval = df.iloc[: , 1:]\n",
    "vals_eval = vals_eval.fillna(vals_eval.median())\n",
    "type(vals_eval.values)"
   ]
  },
  {
   "cell_type": "code",
   "execution_count": 118,
   "metadata": {},
   "outputs": [
    {
     "name": "stdout",
     "output_type": "stream",
     "text": [
      "[[1.91524563e+03 1.00000000e+00 3.90000000e+01 ... 8.14880073e+02\n",
      "  0.00000000e+00 1.20000000e+01]\n",
      " [1.91333253e+02 1.00000000e+00 6.37190000e+02 ... 1.68015528e+02\n",
      "  0.00000000e+00 1.20000000e+01]\n",
      " [3.69969469e+03 1.00000000e+00 0.00000000e+00 ... 1.69853810e+03\n",
      "  0.00000000e+00 1.20000000e+01]\n",
      " ...\n",
      " [6.70120718e+02 1.00000000e+00 0.00000000e+00 ... 5.91573521e+02\n",
      "  5.00000000e-01 1.20000000e+01]\n",
      " [1.16725497e+03 1.00000000e+00 4.99920000e+02 ... 1.35843464e+03\n",
      "  0.00000000e+00 1.20000000e+01]\n",
      " [9.66982890e+01 1.00000000e+00 1.05228000e+03 ... 1.80400196e+02\n",
      "  8.33333000e-01 1.20000000e+01]]\n"
     ]
    }
   ],
   "source": [
    "def random_sample(arr, num_samples):\n",
    "    \n",
    "    sample_idx =np.random.randint(0, arr.shape[0], size=num_samples)\n",
    "    \n",
    "    sampled_pts = []\n",
    "    \n",
    "    for i in sample_idx:\n",
    "        sampled_pts.append(arr[i])\n",
    "    \n",
    "    sampled_pts = np.array(sampled_pts)\n",
    "    \n",
    "    return (sampled_pts)\n",
    "k = random_sample(vals_eval.values, 500)\n",
    "print (k)"
   ]
  },
  {
   "cell_type": "code",
   "execution_count": 119,
   "metadata": {},
   "outputs": [
    {
     "data": {
      "image/png": "[encoded data removed]",
      "text/plain": [
       "<Figure size 432x288 with 1 Axes>"
      ]
     },
     "metadata": {
      "needs_background": "light"
     },
     "output_type": "display_data"
    }
   ],
   "source": [
    "distortions = []\n",
    "X = vals_eval.values\n",
    "X = preprocessing.normalize(X, norm='l2')\n",
    "K = range(1, 10)\n",
    "\n",
    "# for k in K:\n",
    "#     kmm = KMeans(n_clusters=k)\n",
    "#     kmm.fit(X)\n",
    "#     distortions.append(sum(np.min(cdist(X, kmm.cluster_centers_, 'euclidean'), axis=1)) / X.shape[0])\n",
    "\n",
    "# plt.plot(K, distortions, 'bx-')\n",
    "# plt.xlabel('k')\n",
    "# plt.ylabel('Distortion')\n",
    "# plt.title('The Elbow Method showing the optimal k')\n",
    "# plt.show()\n",
    "\n",
    "wcss = []\n",
    "for i in range(1,18):\n",
    "    kmeans = KMeans(n_clusters=i, init='k-means++', max_iter=300, n_init=10, random_state=0).fit(X)\n",
    "    wcss.append(kmeans.inertia_)\n",
    "    \n",
    "plt.plot(range(1,18), wcss)\n",
    "plt.title('Elbow Method')\n",
    "plt.xlabel('Number of Cluster')\n",
    "plt.ylabel('WCSS')\n",
    "plt.show()\n",
    "\n"
   ]
  },
  {
   "cell_type": "code",
   "execution_count": 120,
   "metadata": {},
   "outputs": [],
   "source": [
    "\n",
    "kmeans = KMeans(n_clusters=6, init='k-means++', max_iter=300, n_init=10, random_state=0)\n",
    "y_kmeans = kmeans.fit_predict(X)"
   ]
  },
  {
   "cell_type": "code",
   "execution_count": 121,
   "metadata": {},
   "outputs": [
    {
     "data": {
      "text/plain": [
       "array([0, 2, 0, ..., 0, 0, 3], dtype=int32)"
      ]
     },
     "execution_count": 121,
     "metadata": {},
     "output_type": "execute_result"
    }
   ],
   "source": [
    "kmeans.labels_"
   ]
  },
  {
   "cell_type": "code",
   "execution_count": 122,
   "metadata": {},
   "outputs": [
    {
     "data": {
      "text/plain": [
       "(980, 17)"
      ]
     },
     "execution_count": 122,
     "metadata": {},
     "output_type": "execute_result"
    }
   ],
   "source": [
    "df['Cluster'] = y_kmeans\n",
    "#df.head()\n",
    "df.loc[df['Cluster']==1].values[:, 1:-1].shape"
   ]
  },
  {
   "cell_type": "code",
   "execution_count": 123,
   "metadata": {},
   "outputs": [
    {
     "name": "stdout",
     "output_type": "stream",
     "text": [
      "66\n",
      "(66, 17)\n"
     ]
    }
   ],
   "source": [
    "arr_cluster = range(min(df['Cluster'].values), max(df['Cluster'].values) + 1)\n",
    "stratified_samples = {}\n",
    "\n",
    "def stratified_sampling(clustered_df, num_samples):\n",
    "    \n",
    "    #inp_arr = clustered_df.loc[clustered_df['Cluster']==2].values[:, 1:-1]\n",
    "    #print (inp_arr.shape)\n",
    "    factor = num_samples // len(arr_cluster)\n",
    "    print (factor)\n",
    "    for i in range(len(arr_cluster)):\n",
    "        inp_arr = clustered_df.loc[clustered_df['Cluster']==i].values[:, 1:-1]\n",
    "        stratified_samples[i] = random_sample(inp_arr, factor)\n",
    "    return stratified_samples\n",
    "kk = stratified_sampling(df, 400)\n",
    "print (kk[0].shape)\n",
    "    \n",
    "    "
   ]
  },
  {
   "cell_type": "code",
   "execution_count": 133,
   "metadata": {},
   "outputs": [
    {
     "data": {
      "image/png": "[encoded data removed]",
      "text/plain": [
       "<Figure size 432x288 with 1 Axes>"
      ]
     },
     "metadata": {
      "needs_background": "light"
     },
     "output_type": "display_data"
    }
   ],
   "source": [
    "pca = PCA().fit(X)\n",
    "plt.plot(np.arange(1, 18, 1), (pca.explained_variance_ratio_), marker='o')\n",
    "plt.xlabel('number of components')\n",
    "plt.ylabel('cumulative explained variance');"
   ]
  },
  {
   "cell_type": "code",
   "execution_count": 140,
   "metadata": {},
   "outputs": [
    {
     "name": "stdout",
     "output_type": "stream",
     "text": [
      "[3.34773820e-01 2.78012239e-01 1.64327912e-01 8.62803811e-02\n",
      " 7.39752092e-02 5.12902532e-02 1.12658836e-02 3.36827287e-05\n",
      " 2.28645804e-05 1.37651356e-05 3.81393544e-06 8.83309671e-08\n",
      " 3.58477898e-08 3.35441922e-08 1.29132032e-08 3.19073630e-09\n",
      " 1.22550999e-09] (17,)\n",
      "  CUST_ID      BALANCE  BALANCE_FREQUENCY  PURCHASES  ONEOFF_PURCHASES  \\\n",
      "0  C10001    40.900749           0.818182      95.40              0.00   \n",
      "1  C10002  3202.467416           0.909091       0.00              0.00   \n",
      "2  C10003  2495.148862           1.000000     773.17            773.17   \n",
      "3  C10004  1666.670542           0.636364    1499.00           1499.00   \n",
      "4  C10005   817.714335           1.000000      16.00             16.00   \n",
      "\n",
      "   INSTALLMENTS_PURCHASES  CASH_ADVANCE  PURCHASES_FREQUENCY  \\\n",
      "0                    95.4      0.000000             0.166667   \n",
      "1                     0.0   6442.945483             0.000000   \n",
      "2                     0.0      0.000000             1.000000   \n",
      "3                     0.0    205.788017             0.083333   \n",
      "4                     0.0      0.000000             0.083333   \n",
      "\n",
      "   ONEOFF_PURCHASES_FREQUENCY  PURCHASES_INSTALLMENTS_FREQUENCY  \\\n",
      "0                    0.000000                          0.083333   \n",
      "1                    0.000000                          0.000000   \n",
      "2                    1.000000                          0.000000   \n",
      "3                    0.083333                          0.000000   \n",
      "4                    0.083333                          0.000000   \n",
      "\n",
      "   CASH_ADVANCE_FREQUENCY  CASH_ADVANCE_TRX  PURCHASES_TRX  CREDIT_LIMIT  \\\n",
      "0                0.000000                 0              2        1000.0   \n",
      "1                0.250000                 4              0        7000.0   \n",
      "2                0.000000                 0             12        7500.0   \n",
      "3                0.083333                 1              1        7500.0   \n",
      "4                0.000000                 0              1        1200.0   \n",
      "\n",
      "      PAYMENTS  MINIMUM_PAYMENTS  PRC_FULL_PAYMENT  TENURE  Cluster  \n",
      "0   201.802084        139.509787          0.000000      12        0  \n",
      "1  4103.032597       1072.340217          0.222222      12        2  \n",
      "2   622.066742        627.284787          0.000000      12        0  \n",
      "3     0.000000               NaN          0.000000      12        0  \n",
      "4   678.334763        244.791237          0.000000      12        4  \n"
     ]
    },
    {
     "data": {
      "image/png": "[encoded data removed]",
      "text/plain": [
       "<Figure size 432x288 with 1 Axes>"
      ]
     },
     "metadata": {
      "needs_background": "light"
     },
     "output_type": "display_data"
    }
   ],
   "source": [
    "pca = PCA().fit(X)\n",
    "plt.plot(np.arange(1, 18, 1), np.cumsum(pca.explained_variance_ratio_), marker='o')\n",
    "plt.xlabel('number of components')\n",
    "plt.ylabel('cumulative explained variance');\n",
    "print (pca.explained_variance_ratio_, pca.explained_variance_ratio_.shape)\n",
    "print (df.head())"
   ]
  },
  {
   "cell_type": "code",
   "execution_count": 138,
   "metadata": {},
   "outputs": [
    {
     "name": "stdout",
     "output_type": "stream",
     "text": [
      "[0.33477382 0.27801224 0.16432791 0.08628038 0.07397521 0.05129025\n",
      " 0.01126588] (7,)\n"
     ]
    }
   ],
   "source": [
    "pca = PCA(n_components=7).fit(X)\n",
    "order_components_variance = pca.components_\n",
    "#print (order_components_variance)\n",
    "print (pca.explained_variance_ratio_, pca.explained_variance_ratio_.shape)"
   ]
  },
  {
   "cell_type": "code",
   "execution_count": null,
   "metadata": {},
   "outputs": [],
   "source": []
  },
  {
   "cell_type": "code",
   "execution_count": null,
   "metadata": {},
   "outputs": [],
   "source": []
  }
 ],
 "metadata": {
  "kernelspec": {
   "display_name": "Python 3",
   "language": "python",
   "name": "python3"
  },
  "language_info": {
   "codemirror_mode": {
    "name": "ipython",
    "version": 3
   },
   "file_extension": ".py",
   "mimetype": "text/x-python",
   "name": "python",
   "nbconvert_exporter": "python",
   "pygments_lexer": "ipython3",
   "version": "3.6.8"
  }
 },
 "nbformat": 4,
 "nbformat_minor": 2
}
